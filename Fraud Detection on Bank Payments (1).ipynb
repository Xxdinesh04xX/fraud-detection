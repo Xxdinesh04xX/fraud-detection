{
 "cells": [
  {
   "cell_type": "markdown",
   "metadata": {},
   "source": [
    "## Explaratory Data Analysis\n",
    "\n",
    "In this chapter we will perform an EDA on the data and try to gain some insight from it."
   ]
  },
  {
   "cell_type": "code",
   "execution_count": null,
   "metadata": {},
   "outputs": [],
   "source": [
    "'''Banksim dataset\n",
    "We detect the fraudulent transactions from the Banksim dataset. This synthetically generated dataset consists of payments from various customers made in different time periods and with different amounts. For more information on the dataset you can check the Kaggle page for this dataset which also has the link to the original paper.\n",
    "\n",
    "Here Things to be done:\n",
    "\n",
    "Exploratory Data Analysis (EDA)\n",
    "Data Preprocessing\n",
    "Oversampling with SMOTE\n",
    "K-Neighbours Classifier\n",
    "Random Forest Classifier\n",
    "XGBoost Classifier\n",
    "Conclusion'''"
   ]
  },
  {
   "cell_type": "code",
   "execution_count": null,
   "metadata": {
    "_cell_guid": "79c7e3d0-c299-4dcb-8224-4455121ee9b0",
    "_kg_hide-input": true,
    "_uuid": "d629ff2d2480ee46fbb7e2d37f6b5fab8052498a"
   },
   "outputs": [],
   "source": [
    "# imports\n",
    "\n",
    "## Data loading, processing and for more\n",
    "import pandas as pd\n",
    "import numpy as np\n",
    "from imblearn.over_sampling import SMOTE\n",
    "\n",
    "## Visualization\n",
    "import seaborn as sns\n",
    "import matplotlib.pyplot as plt\n",
    "# set seaborn style because it prettier\n",
    "sns.set()\n",
    "\n",
    "## Metrics\n",
    "from sklearn.model_selection import train_test_split\n",
    "from sklearn.metrics import confusion_matrix, classification_report\n",
    "from sklearn.metrics import roc_curve, auc\n",
    "\n",
    "## Models\n",
    "import xgboost as xgb\n",
    "from sklearn.neighbors import KNeighborsClassifier\n",
    "from sklearn.ensemble import RandomForestClassifier\n",
    "from sklearn.ensemble import VotingClassifier"
   ]
  },
  {
   "cell_type": "markdown",
   "metadata": {
    "_uuid": "e1b7b9feedaed877bfee5bd871c627cdbcf2e31b"
   },
   "source": [
    "**Data**\n",
    "As we can see in the first rows below the dataset has 9 feature columns and a target column. \n",
    "The feature columms are :\n",
    "* **Step**: This feature represents the day from the start of simulation. It has 180 steps so simulation ran for virtually 6 months.\n",
    "* **Customer**: This feature represents the customer id\n",
    "* **zipCodeOrigin**: The zip code of origin/source.\n",
    "* **Merchant**: The merchant's id\n",
    "* **zipMerchant**: The merchant's zip code\n",
    "* **Age**: Categorized age \n",
    "    * 0: <= 18, \n",
    "    * 1: 19-25, \n",
    "    * 2: 26-35, \n",
    "    * 3: 36-45,\n",
    "    * 4: 46:55,\n",
    "    * 5: 56:65,\n",
    "    * 6: > 65\n",
    "    * U: Unknown\n",
    "* **Gender**: Gender for customer\n",
    "     * E : Enterprise,\n",
    "     * F: Female,\n",
    "     * M: Male,\n",
    "     * U: Unknown\n",
    "* **Category**: Category of the purchase. I won't write all categories here, we'll see them later in the analysis.\n",
    "* **Amount**: Amount of the purchase\n",
    "* **Fraud**: Target variable which shows if the transaction fraudulent(1) or benign(0)"
   ]
  },
  {
   "cell_type": "code",
   "execution_count": null,
   "metadata": {
    "_kg_hide-input": true,
    "_uuid": "2bf619515c1a924cf041c419cb4a0514ba6ce820"
   },
   "outputs": [],
   "source": [
    "# read the data and show first 5 rows\n",
    "data = pd.read_csv(\"../input/bs140513_032310.csv\")\n",
    "data.head(5)"
   ]
  },
  {
   "cell_type": "markdown",
   "metadata": {
    "_uuid": "29a786fcbe642321727b007bd015cec05a198238"
   },
   "source": [
    "Let's look at column types and missing values in data.  Oh im sorry there is **no** missing values which means we don't have to perform an imputation."
   ]
  },
  {
   "cell_type": "code",
   "execution_count": null,
   "metadata": {
    "_uuid": "c285fad4bda30a3b5feec97b71e0a9d1e0b7ec8c"
   },
   "outputs": [],
   "source": [
    "data.info()"
   ]
  },
  {
   "cell_type": "markdown",
   "metadata": {
    "_uuid": "36778347862db884536c7b89e817c959acddc514"
   },
   "source": [
    "**Fraud data** will be imbalanced like you see in the plot below and from the count of instances. To balance the dataset one can perform oversample or undersample techniques. Oversampling is increasing the number of the minority class by generating instances from the minority class . Undersampling is reducing the number of instances in the majority class by selecting random points from it to where it is equal with the minority class. Both operations have some risks: Oversample will create copies or similar data points which sometimes would not be helpful for the case of fraud detection because fraudulent transactions may vary. Undersampling means that we lost data points thus information. We will perform an oversampled technique called SMOTE (Synthetic Minority Over-sampling Technique). SMOTE will create new data points from minority class using the neighbour instances so generated samples are not exact copies but they are similar to instances we have."
   ]
  },
  {
   "cell_type": "code",
   "execution_count": null,
   "metadata": {
    "_kg_hide-input": true,
    "_uuid": "ee9ed07328bb6ae710263c4e55066f3e757206a0"
   },
   "outputs": [],
   "source": [
    "# Create two dataframes with fraud and non-fraud data \n",
    "df_fraud = data.loc[data.fraud == 1] \n",
    "df_non_fraud = data.loc[data.fraud == 0]\n",
    "\n",
    "sns.countplot(x=\"fraud\",data=data)\n",
    "plt.title(\"Count of Fraudulent Payments\")\n",
    "plt.show()\n",
    "print(\"Number of normal examples: \",df_non_fraud.fraud.count())\n",
    "print(\"Number of fradulent examples: \",df_fraud.fraud.count())\n",
    "#print(data.fraud.value_counts()) # does the same thing above"
   ]
  },
  {
   "cell_type": "markdown",
   "metadata": {
    "_uuid": "cf77a853d6b363b91512d3c3ce22717a5ed29645"
   },
   "source": [
    "We can see the mean amount and fraud percent by category below. Looks like leisure and the travel is the most selected categories for fraudsters. Fraudsters chose the categories which people spend more on average. Let's confirm this hypothesis by checking the fraud and non-fraud amount transacted."
   ]
  },
  {
   "cell_type": "code",
   "execution_count": null,
   "metadata": {
    "_uuid": "44479e279e91d208d9108112327441e5d57d5fee"
   },
   "outputs": [],
   "source": [
    "print(\"Mean feature values per category\",data.groupby('category')['amount','fraud'].mean())"
   ]
  },
  {
   "cell_type": "markdown",
   "metadata": {
    "_uuid": "258b20b07d771a0fd9a7a22fda617e40ce967842"
   },
   "source": [
    "Our hypothesis for fraudsters choosing the categories which people spend more is only partly correct, but as we can see in the table below we can say confidently say that a fraudulent transaction will be much more (about four times or more) than average for that category."
   ]
  },
  {
   "cell_type": "code",
   "execution_count": null,
   "metadata": {
    "_uuid": "b5a14927d2edfb847e809969fd534e9bae339a2a"
   },
   "outputs": [],
   "source": [
    "# Create two dataframes with fraud and non-fraud data \n",
    "pd.concat([df_fraud.groupby('category')['amount'].mean(),df_non_fraud.groupby('category')['amount'].mean(),\\\n",
    "           data.groupby('category')['fraud'].mean()*100],keys=[\"Fraudulent\",\"Non-Fraudulent\",\"Percent(%)\"],axis=1,\\\n",
    "          sort=False).sort_values(by=['Non-Fraudulent'])"
   ]
  },
  {
   "cell_type": "markdown",
   "metadata": {
    "_uuid": "e41aeb2f2c6b898ebbcb5b4222fd44ca8e87c8ae"
   },
   "source": [
    "Average amount spend it categories are similar; between 0-500 discarding the outliers, except for the travel category which goes very high. "
   ]
  },
  {
   "cell_type": "code",
   "execution_count": null,
   "metadata": {
    "_kg_hide-input": false,
    "_uuid": "290e7163a62fb029fcbdf45a3d35c7c0d58c423d"
   },
   "outputs": [],
   "source": [
    "# Plot histograms of the amounts in fraud and non-fraud data \n",
    "plt.figure(figsize=(30,10))\n",
    "sns.boxplot(x=data.category,y=data.amount)\n",
    "plt.title(\"Boxplot for the Amount spend in category\")\n",
    "plt.ylim(0,4000)\n",
    "plt.legend()\n",
    "plt.show()"
   ]
  },
  {
   "cell_type": "markdown",
   "metadata": {
    "_uuid": "69dbe47eb7f490030006aaa42bac0a7414b3c100"
   },
   "source": [
    "Again we can see in the histogram below the fradulent transactions are less in count but more in amount."
   ]
  },
  {
   "cell_type": "code",
   "execution_count": null,
   "metadata": {
    "_uuid": "93272d1343f6783a0152a80b5a177541faed8e25"
   },
   "outputs": [],
   "source": [
    "# Plot histograms of the amounts in fraud and non-fraud data \n",
    "plt.hist(df_fraud.amount, alpha=0.5, label='fraud',bins=100)\n",
    "plt.hist(df_non_fraud.amount, alpha=0.5, label='nonfraud',bins=100)\n",
    "plt.title(\"Histogram for fraudulent and nonfraudulent payments\")\n",
    "plt.ylim(0,10000)\n",
    "plt.xlim(0,1000)\n",
    "plt.legend()\n",
    "plt.show()"
   ]
  },
  {
   "cell_type": "markdown",
   "metadata": {
    "_uuid": "76c33765a55bb89e0fb8a5d1cd55aa6bd7727dfa"
   },
   "source": [
    "Looks like fraud occurs more in ages equal and below 18(0th category). Can it be because of fraudsters thinking it would be less consequences if they show their age younger, or maybe they really are young."
   ]
  },
  {
   "cell_type": "code",
   "execution_count": null,
   "metadata": {
    "_uuid": "d5e387216fa347c7f437c7f187095edd3912f848"
   },
   "outputs": [],
   "source": [
    "print((data.groupby('age')['fraud'].mean()*100).reset_index().rename(columns={'age':'Age','fraud' : 'Fraud Percent'}).sort_values(by='Fraud Percent'))"
   ]
  },
  {
   "cell_type": "markdown",
   "metadata": {
    "_uuid": "23001479b16bd3f01682dedd94b47a3f231a7c9e"
   },
   "source": [
    "## Data Preprocessing\n",
    "\n",
    "In this part we will preprocess the data and prepare for the training.\n",
    "\n",
    "There are only one unique zipCode values so we will drop them."
   ]
  },
  {
   "cell_type": "code",
   "execution_count": null,
   "metadata": {
    "_uuid": "47246c26a027470f30ea0a5e4a149e6dbb951403"
   },
   "outputs": [],
   "source": [
    "print(\"Unique zipCodeOri values: \",data.zipcodeOri.nunique())\n",
    "print(\"Unique zipMerchant values: \",data.zipMerchant.nunique())\n",
    "# dropping zipcodeori and zipMerchant since they have only one unique value\n",
    "data_reduced = data.drop(['zipcodeOri','zipMerchant'],axis=1)"
   ]
  },
  {
   "cell_type": "markdown",
   "metadata": {
    "_uuid": "7f589a60028130489740b7ceaa12ca7c4879c2e7"
   },
   "source": [
    "Checking the data after dropping."
   ]
  },
  {
   "cell_type": "code",
   "execution_count": null,
   "metadata": {
    "_uuid": "4b5689fb2da6f4ab7d4ba8e707530ea10753e8bb"
   },
   "outputs": [],
   "source": [
    "data_reduced.columns"
   ]
  },
  {
   "cell_type": "markdown",
   "metadata": {
    "_uuid": "5da150a203f2ab7e310af70365a4e90f7f522168"
   },
   "source": [
    "Here we will transform categorical features into numerical values. It is usually better to turn these type of categorical values into dummies because they have no relation in size(i.e. customer1 is not greater than customer2) but since they are too many (over 500k customers and merchants) the features will grow 10^5 in size and it will take forever to train. I've put the code below for turning categorical features into dummies if you want to give it a try.\n",
    "> data_reduced.loc[:,['customer','merchant','category']].astype('category')\n",
    "> data_dum = pd.get_dummies(data_reduced.loc[:,['customer','merchant','category','gender']],drop_first=True) # dummies\n",
    "> print(data_dum.info())"
   ]
  },
  {
   "cell_type": "code",
   "execution_count": null,
   "metadata": {
    "_uuid": "4d7d4e448b2fa8c9313810f7c24b6e010af719e4"
   },
   "outputs": [],
   "source": [
    "# turning object columns type to categorical for easing the transformation process\n",
    "col_categorical = data_reduced.select_dtypes(include= ['object']).columns\n",
    "for col in col_categorical:\n",
    "    data_reduced[col] = data_reduced[col].astype('category')\n",
    "# categorical values ==> numeric values\n",
    "data_reduced[col_categorical] = data_reduced[col_categorical].apply(lambda x: x.cat.codes)\n",
    "data_reduced.head(5)"
   ]
  },
  {
   "cell_type": "markdown",
   "metadata": {
    "_uuid": "37f7ed8c735c17e699e36cc34699df01a2fddda8"
   },
   "source": [
    "Let's define our independent variable (X) and dependant/target variable y"
   ]
  },
  {
   "cell_type": "code",
   "execution_count": null,
   "metadata": {
    "_uuid": "bca1ece9de83b5f0db01cc4e3fbb9799bdcc3e22"
   },
   "outputs": [],
   "source": [
    "X = data_reduced.drop(['fraud'],axis=1)\n",
    "y = data['fraud']\n",
    "print(X.head(),\"\\n\")\n",
    "print(y.head())"
   ]
  },
  {
   "cell_type": "code",
   "execution_count": null,
   "metadata": {
    "_uuid": "474518cb2bb397a51477e826541fc33c62d2d492"
   },
   "outputs": [],
   "source": [
    "y[y==1].count()"
   ]
  },
  {
   "cell_type": "markdown",
   "metadata": {
    "_uuid": "37bca88900f65dd21a308beca5cc615fe4a40c31"
   },
   "source": [
    "## Oversampling with SMOTE\n",
    "\n",
    "Using SMOTE(Synthetic Minority Oversampling Technique) [2] for balancing the dataset. Resulted counts show that now we have exact number of class instances (1 and 0)."
   ]
  },
  {
   "cell_type": "code",
   "execution_count": null,
   "metadata": {
    "_uuid": "784e528eb3ea2ceb20af530a516911279d5df8f4"
   },
   "outputs": [],
   "source": [
    "sm = SMOTE(random_state=42)\n",
    "X_res, y_res = sm.fit_resample(X, y)\n",
    "y_res = pd.DataFrame(y_res)\n",
    "print(y_res[0].value_counts())"
   ]
  },
  {
   "cell_type": "markdown",
   "metadata": {
    "_uuid": "4cafd096d0bd1bbe528eb8d5f7d943d58fd277db"
   },
   "source": [
    "I will do a train test split for measuring the performance. I haven't done cross validation since we have a lot of instances and i don't want to wait that much for training but it should be better to cross validate most of the times. "
   ]
  },
  {
   "cell_type": "code",
   "execution_count": null,
   "metadata": {
    "_uuid": "1c4f59c9cec206b7fa56e61a1202050f8966a94b"
   },
   "outputs": [],
   "source": [
    "# I won't do cross validation since we have a lot of instances\n",
    "X_train, X_test, y_train, y_test = train_test_split(X_res,y_res,test_size=0.3,random_state=42,shuffle=True,stratify=y_res)"
   ]
  },
  {
   "cell_type": "markdown",
   "metadata": {
    "_uuid": "47b6d299e0a3c08509066a19b2b225bf37acf0ad"
   },
   "source": [
    "I will define a function for plotting the ROC_AUC curve. It is a good visual way to see the classification performance."
   ]
  },
  {
   "cell_type": "code",
   "execution_count": null,
   "metadata": {
    "_uuid": "c15c0a19c3fe5402109c9e54e58d0402c40107dd"
   },
   "outputs": [],
   "source": [
    "# %% Function for plotting ROC_AUC curve\n",
    "\n",
    "def plot_roc_auc(y_test, preds):\n",
    "    '''\n",
    "    Takes actual and predicted(probabilities) as input and plots the Receiver\n",
    "    Operating Characteristic (ROC) curve\n",
    "    '''\n",
    "    fpr, tpr, threshold = roc_curve(y_test, preds)\n",
    "    roc_auc = auc(fpr, tpr)\n",
    "    plt.title('Receiver Operating Characteristic')\n",
    "    plt.plot(fpr, tpr, 'b', label = 'AUC = %0.2f' % roc_auc)\n",
    "    plt.legend(loc = 'lower right')\n",
    "    plt.plot([0, 1], [0, 1],'r--')\n",
    "    plt.xlim([0, 1])\n",
    "    plt.ylim([0, 1])\n",
    "    plt.ylabel('True Positive Rate')\n",
    "    plt.xlabel('False Positive Rate')\n",
    "    plt.show()"
   ]
  },
  {
   "cell_type": "markdown",
   "metadata": {
    "_uuid": "589632daf9c07f7903870ecbf183c2057e10d4be"
   },
   "source": [
    "As i talked about it before fraud datasets will be imbalanced and most of the instances will be non-fraudulent. Imagine that we have the dataset here and we are always predicting non-fraudulent. Our accuracy would be almost 99 % for this dataset and mostly for others as well since fraud percentage is very low. Our accuracy is very high but we are not detecting any frauds so it is a useless classifier. So the base accuracy score should be better at least than predicting always non-fraudulent for performing a detection."
   ]
  },
  {
   "cell_type": "code",
   "execution_count": null,
   "metadata": {
    "_uuid": "0bacd9ca1db82f754e402ce66b654df460d51f88"
   },
   "outputs": [],
   "source": [
    "# The base score should be better than predicting always non-fraduelent\n",
    "print(\"Base accuracy score we must beat is: \", \n",
    "      df_non_fraud.fraud.count()/ np.add(df_non_fraud.fraud.count(),df_fraud.fraud.count()) * 100)"
   ]
  },
  {
   "cell_type": "markdown",
   "metadata": {
    "_uuid": "03bf9d11a03798ff2411e93d3956d378719172d7"
   },
   "source": [
    "## **K-Neighbours Classifier**"
   ]
  },
  {
   "cell_type": "code",
   "execution_count": null,
   "metadata": {
    "_uuid": "6d3a294403b1afbdbf18219ab0418a2e03e201e2"
   },
   "outputs": [],
   "source": [
    "# %% K-ello Neigbors\n",
    "\n",
    "knn = KNeighborsClassifier(n_neighbors=5,p=1)\n",
    "\n",
    "knn.fit(X_train,y_train)\n",
    "y_pred = knn.predict(X_test)\n",
    "\n",
    "\n",
    "print(\"Classification Report for K-Nearest Neighbours: \\n\", classification_report(y_test, y_pred))\n",
    "print(\"Confusion Matrix of K-Nearest Neigbours: \\n\", confusion_matrix(y_test,y_pred))\n",
    "plot_roc_auc(y_test, knn.predict_proba(X_test)[:,1])"
   ]
  },
  {
   "cell_type": "markdown",
   "metadata": {
    "_uuid": "7fed4c48fb1a0b6d73df873c8492847b03b069c4"
   },
   "source": [
    "## **Random Forest Classifier**"
   ]
  },
  {
   "cell_type": "code",
   "execution_count": null,
   "metadata": {
    "_uuid": "b320aa8bea1fbf19ef198905ad7f7a365561ccdd"
   },
   "outputs": [],
   "source": [
    "# %% Random Forest Classifier\n",
    "\n",
    "rf_clf = RandomForestClassifier(n_estimators=100,max_depth=8,random_state=42,\n",
    "                                verbose=1,class_weight=\"balanced\")\n",
    "\n",
    "rf_clf.fit(X_train,y_train)\n",
    "y_pred = rf_clf.predict(X_test)\n",
    "\n",
    "print(\"Classification Report for Random Forest Classifier: \\n\", classification_report(y_test, y_pred))\n",
    "print(\"Confusion Matrix of Random Forest Classifier: \\n\", confusion_matrix(y_test,y_pred))\n",
    "plot_roc_auc(y_test, rf_clf.predict_proba(X_test)[:,1])"
   ]
  },
  {
   "cell_type": "markdown",
   "metadata": {
    "_uuid": "1d5898c4320b78015fd40d059e158f767399d354"
   },
   "source": [
    "## XGBoost Classifier"
   ]
  },
  {
   "cell_type": "code",
   "execution_count": null,
   "metadata": {
    "_uuid": "1cbe2c476bcef6f4ed9523c891d0536077a6861a"
   },
   "outputs": [],
   "source": [
    "XGBoost_CLF = xgb.XGBClassifier(max_depth=6, learning_rate=0.05, n_estimators=400, \n",
    "                                objective=\"binary:hinge\", booster='gbtree', \n",
    "                                n_jobs=-1, nthread=None, gamma=0, min_child_weight=1, max_delta_step=0, \n",
    "                                subsample=1, colsample_bytree=1, colsample_bylevel=1, reg_alpha=0, reg_lambda=1, \n",
    "                                scale_pos_weight=1, base_score=0.5, random_state=42, verbosity=True)\n",
    "\n",
    "XGBoost_CLF.fit(X_train,y_train)\n",
    "\n",
    "y_pred = XGBoost_CLF.predict(X_test)\n",
    "\n",
    "print(\"Classification Report for XGBoost: \\n\", classification_report(y_test, y_pred))\n",
    "print(\"Confusion Matrix of XGBoost: \\n\", confusion_matrix(y_test,y_pred))\n",
    "plot_roc_auc(y_test, XGBoost_CLF.predict_proba(X_test)[:,1])"
   ]
  },
  {
   "cell_type": "code",
   "execution_count": null,
   "metadata": {},
   "outputs": [],
   "source": [
    "'''\n",
    "In this kernel, I performed fraud detection on bank payment data and achieved strong results with various classifiers. \n",
    "Since the dataset has an imbalanced class issue, I used the SMOTE technique to generate new minority class examples. \n",
    "I’ve also uploaded the classification results without SMOTE to my GitHub, so you can compare both results if you're interested.\n",
    "\n",
    "Thanks for checking out my first kernel! \n",
    "I’d appreciate any feedback or suggestions, and I hope you enjoyed it. \n",
    "Have a great day with lots of insightful data!'''"
   ]
  },
  {
   "cell_type": "code",
   "execution_count": null,
   "metadata": {},
   "outputs": [],
   "source": []
  }
 ],
 "metadata": {
  "kernelspec": {
   "display_name": "Python 3 (ipykernel)",
   "language": "python",
   "name": "python3"
  },
  "language_info": {
   "codemirror_mode": {
    "name": "ipython",
    "version": 3
   },
   "file_extension": ".py",
   "mimetype": "text/x-python",
   "name": "python",
   "nbconvert_exporter": "python",
   "pygments_lexer": "ipython3",
   "version": "3.13.1"
  }
 },
 "nbformat": 4,
 "nbformat_minor": 4
}
